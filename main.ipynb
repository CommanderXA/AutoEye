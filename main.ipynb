{
 "cells": [
  {
   "cell_type": "code",
   "execution_count": 1,
   "metadata": {},
   "outputs": [],
   "source": [
    "import torch"
   ]
  },
  {
   "cell_type": "code",
   "execution_count": 2,
   "metadata": {},
   "outputs": [
    {
     "name": "stdout",
     "output_type": "stream",
     "text": [
      "data:\n",
      "  csv_files:\n",
      "  - ./data/train.csv\n",
      "  - ./data/test.csv\n",
      "model:\n",
      "  name: autoeye\n",
      "  backbone: resnet\n",
      "  version: 1.0\n",
      "optim:\n",
      "  beta1: 0.9\n",
      "  beta2: 0.95\n",
      "  weight_decay: 0.1\n",
      "hyper:\n",
      "  pretrained: true\n",
      "  batch_size: 16\n",
      "  dropout: 0.2\n",
      "  lr: 0.003\n",
      "  epochs: 10\n",
      "  eval_iters: 1\n",
      "  use_amp: false\n",
      "\n"
     ]
    }
   ],
   "source": [
    "import logging\n",
    "from hydra import compose, initialize\n",
    "from omegaconf import OmegaConf\n",
    "\n",
    "from nn.autoeye.config import Config\n",
    "\n",
    "if __name__ == \"__main__\":\n",
    "    # global initialization\n",
    "    initialize(version_base=None, config_path=\"nn/conf\")\n",
    "    cfg = compose(config_name=\"config\")\n",
    "    print(OmegaConf.to_yaml(cfg))\n",
    "    log = logging.getLogger(__name__)\n",
    "    Config.setup(cfg, log, train=True)"
   ]
  },
  {
   "cell_type": "code",
   "execution_count": null,
   "metadata": {},
   "outputs": [],
   "source": [
    "dinov2_vits14 = torch.hub.load('facebookresearch/dinov2', 'dinov2_vits14')\n",
    "dinov2_vits14"
   ]
  },
  {
   "cell_type": "code",
   "execution_count": 4,
   "metadata": {},
   "outputs": [],
   "source": [
    "torch.save(dinov2_vits14, \"./models/dino.pt\")"
   ]
  },
  {
   "cell_type": "code",
   "execution_count": null,
   "metadata": {},
   "outputs": [],
   "source": [
    "dino_model = torch.load(\"./models/dino.pt\")\n",
    "dino_model"
   ]
  },
  {
   "cell_type": "code",
   "execution_count": 3,
   "metadata": {},
   "outputs": [
    {
     "name": "stderr",
     "output_type": "stream",
     "text": [
      "/home/spectre/.local/lib/python3.10/site-packages/tqdm/auto.py:22: TqdmWarning: IProgress not found. Please update jupyter and ipywidgets. See https://ipywidgets.readthedocs.io/en/stable/user_install.html\n",
      "  from .autonotebook import tqdm as notebook_tqdm\n"
     ]
    }
   ],
   "source": [
    "from torch.cuda.amp import GradScaler\n",
    "from torch.optim import AdamW\n",
    "\n",
    "from nn.autoeye.model import AutoEye\n",
    "\n",
    "# loading model\n",
    "model = AutoEye().to(device=Config.device)\n",
    "scaler = GradScaler(enabled=cfg.hyper.use_amp)\n",
    "optimizer = AdamW(\n",
    "    model.parameters(), lr=cfg.hyper.lr, betas=(cfg.optim.beta1, cfg.optim.beta2)\n",
    ")\n",
    "\n",
    "checkpoint = {\n",
    "    \"backbone\": model.backbone.state_dict(),\n",
    "    \"classifier\": model.classifier.state_dict(),\n",
    "    \"optimizer\": optimizer.state_dict(),\n",
    "    \"scaler\": scaler.state_dict(),\n",
    "    \"epochs\": Config.get_trained_epochs() + 0,\n",
    "    \"accuracy\": 0,\n",
    "}\n",
    "\n",
    "\n",
    "model.eval()\n",
    "torch.save(checkpoint, Config.model_path)"
   ]
  },
  {
   "cell_type": "code",
   "execution_count": 4,
   "metadata": {},
   "outputs": [
    {
     "name": "stderr",
     "output_type": "stream",
     "text": [
      "Using cache found in /home/spectre/.cache/torch/hub/pytorch_vision_v0.10.0\n",
      "/home/spectre/.local/lib/python3.10/site-packages/torchvision/models/_utils.py:208: UserWarning: The parameter 'pretrained' is deprecated since 0.13 and may be removed in the future, please use 'weights' instead.\n",
      "  warnings.warn(\n",
      "/home/spectre/.local/lib/python3.10/site-packages/torchvision/models/_utils.py:223: UserWarning: Arguments other than a weight enum or `None` for 'weights' are deprecated since 0.13 and may be removed in the future. The current behavior is equivalent to passing `weights=ResNeXt50_32X4D_Weights.IMAGENET1K_V1`. You can also use `weights=ResNeXt50_32X4D_Weights.DEFAULT` to get the most up-to-date weights.\n",
      "  warnings.warn(msg)\n"
     ]
    }
   ],
   "source": [
    "from nn.autoeye.model import AutoEye\n",
    "\n",
    "\n",
    "model = AutoEye()\n",
    "checkpoint = torch.load(\"./models/autoeye_resnet.pt\")\n",
    "model.load(checkpoint)\n",
    "\n",
    "resnet = torch.hub.load('pytorch/vision:v0.10.0', 'resnext50_32x4d', pretrained=True)\n",
    "resnet = torch.nn.Sequential(*list(resnet.children())[:-1])\n",
    "\n",
    "model.backbone = resnet\n",
    "\n",
    "checkpoint = {\n",
    "    \"backbone\": model.backbone.state_dict(),\n",
    "    \"classifier\": model.classifier.state_dict(),\n",
    "    \"optimizer\": checkpoint[\"optimizer\"],\n",
    "    \"scaler\": checkpoint[\"scaler\"],\n",
    "    \"epochs\": 0,\n",
    "    \"accuracy\": 0,\n",
    "}\n",
    "torch.save(checkpoint, \"./models/autoeye_resnet.pt\")"
   ]
  }
 ],
 "metadata": {
  "kernelspec": {
   "display_name": "Python 3",
   "language": "python",
   "name": "python3"
  },
  "language_info": {
   "codemirror_mode": {
    "name": "ipython",
    "version": 3
   },
   "file_extension": ".py",
   "mimetype": "text/x-python",
   "name": "python",
   "nbconvert_exporter": "python",
   "pygments_lexer": "ipython3",
   "version": "3.10.12"
  }
 },
 "nbformat": 4,
 "nbformat_minor": 2
}
