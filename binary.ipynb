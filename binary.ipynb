{
  "nbformat": 4,
  "nbformat_minor": 0,
  "metadata": {
    "colab": {
      "provenance": [],
      "gpuType": "T4"
    },
    "kernelspec": {
      "name": "python3",
      "display_name": "Python 3"
    },
    "language_info": {
      "name": "python"
    },
    "accelerator": "GPU",
    "gpuClass": "standard",
    "widgets": {
      "application/vnd.jupyter.widget-state+json": {
        "dd49b39ba0634f44bcdedde3ba5def2d": {
          "model_module": "@jupyter-widgets/controls",
          "model_name": "HBoxModel",
          "model_module_version": "1.5.0",
          "state": {
            "_dom_classes": [],
            "_model_module": "@jupyter-widgets/controls",
            "_model_module_version": "1.5.0",
            "_model_name": "HBoxModel",
            "_view_count": null,
            "_view_module": "@jupyter-widgets/controls",
            "_view_module_version": "1.5.0",
            "_view_name": "HBoxView",
            "box_style": "",
            "children": [
              "IPY_MODEL_9574d970a1ce4d6ab4f2606f8941be91",
              "IPY_MODEL_0a738d72fa534901bf9785936323be86",
              "IPY_MODEL_2da2bdce101641eaa7c38e202ffa3d17"
            ],
            "layout": "IPY_MODEL_dec50d46c66847da9285dc7bafdd9049"
          }
        },
        "9574d970a1ce4d6ab4f2606f8941be91": {
          "model_module": "@jupyter-widgets/controls",
          "model_name": "HTMLModel",
          "model_module_version": "1.5.0",
          "state": {
            "_dom_classes": [],
            "_model_module": "@jupyter-widgets/controls",
            "_model_module_version": "1.5.0",
            "_model_name": "HTMLModel",
            "_view_count": null,
            "_view_module": "@jupyter-widgets/controls",
            "_view_module_version": "1.5.0",
            "_view_name": "HTMLView",
            "description": "",
            "description_tooltip": null,
            "layout": "IPY_MODEL_e14aae543c2f430483a4543e15dd79d7",
            "placeholder": "​",
            "style": "IPY_MODEL_fcc0dacaa3844b1588abc364864c4473",
            "value": "100%"
          }
        },
        "0a738d72fa534901bf9785936323be86": {
          "model_module": "@jupyter-widgets/controls",
          "model_name": "FloatProgressModel",
          "model_module_version": "1.5.0",
          "state": {
            "_dom_classes": [],
            "_model_module": "@jupyter-widgets/controls",
            "_model_module_version": "1.5.0",
            "_model_name": "FloatProgressModel",
            "_view_count": null,
            "_view_module": "@jupyter-widgets/controls",
            "_view_module_version": "1.5.0",
            "_view_name": "ProgressView",
            "bar_style": "success",
            "description": "",
            "description_tooltip": null,
            "layout": "IPY_MODEL_37972179b70848dc975ae6d90f69d1cf",
            "max": 6585,
            "min": 0,
            "orientation": "horizontal",
            "style": "IPY_MODEL_c276fd788b0a487891f632d2cbc57b40",
            "value": 6585
          }
        },
        "2da2bdce101641eaa7c38e202ffa3d17": {
          "model_module": "@jupyter-widgets/controls",
          "model_name": "HTMLModel",
          "model_module_version": "1.5.0",
          "state": {
            "_dom_classes": [],
            "_model_module": "@jupyter-widgets/controls",
            "_model_module_version": "1.5.0",
            "_model_name": "HTMLModel",
            "_view_count": null,
            "_view_module": "@jupyter-widgets/controls",
            "_view_module_version": "1.5.0",
            "_view_name": "HTMLView",
            "description": "",
            "description_tooltip": null,
            "layout": "IPY_MODEL_185bf44b93a743dc81196d8bef466939",
            "placeholder": "​",
            "style": "IPY_MODEL_1e1331b6ed72442596b3095fc4ff27cf",
            "value": " 6585/6585 [44:09&lt;00:00,  2.55it/s]"
          }
        },
        "dec50d46c66847da9285dc7bafdd9049": {
          "model_module": "@jupyter-widgets/base",
          "model_name": "LayoutModel",
          "model_module_version": "1.2.0",
          "state": {
            "_model_module": "@jupyter-widgets/base",
            "_model_module_version": "1.2.0",
            "_model_name": "LayoutModel",
            "_view_count": null,
            "_view_module": "@jupyter-widgets/base",
            "_view_module_version": "1.2.0",
            "_view_name": "LayoutView",
            "align_content": null,
            "align_items": null,
            "align_self": null,
            "border": null,
            "bottom": null,
            "display": null,
            "flex": null,
            "flex_flow": null,
            "grid_area": null,
            "grid_auto_columns": null,
            "grid_auto_flow": null,
            "grid_auto_rows": null,
            "grid_column": null,
            "grid_gap": null,
            "grid_row": null,
            "grid_template_areas": null,
            "grid_template_columns": null,
            "grid_template_rows": null,
            "height": null,
            "justify_content": null,
            "justify_items": null,
            "left": null,
            "margin": null,
            "max_height": null,
            "max_width": null,
            "min_height": null,
            "min_width": null,
            "object_fit": null,
            "object_position": null,
            "order": null,
            "overflow": null,
            "overflow_x": null,
            "overflow_y": null,
            "padding": null,
            "right": null,
            "top": null,
            "visibility": null,
            "width": null
          }
        },
        "e14aae543c2f430483a4543e15dd79d7": {
          "model_module": "@jupyter-widgets/base",
          "model_name": "LayoutModel",
          "model_module_version": "1.2.0",
          "state": {
            "_model_module": "@jupyter-widgets/base",
            "_model_module_version": "1.2.0",
            "_model_name": "LayoutModel",
            "_view_count": null,
            "_view_module": "@jupyter-widgets/base",
            "_view_module_version": "1.2.0",
            "_view_name": "LayoutView",
            "align_content": null,
            "align_items": null,
            "align_self": null,
            "border": null,
            "bottom": null,
            "display": null,
            "flex": null,
            "flex_flow": null,
            "grid_area": null,
            "grid_auto_columns": null,
            "grid_auto_flow": null,
            "grid_auto_rows": null,
            "grid_column": null,
            "grid_gap": null,
            "grid_row": null,
            "grid_template_areas": null,
            "grid_template_columns": null,
            "grid_template_rows": null,
            "height": null,
            "justify_content": null,
            "justify_items": null,
            "left": null,
            "margin": null,
            "max_height": null,
            "max_width": null,
            "min_height": null,
            "min_width": null,
            "object_fit": null,
            "object_position": null,
            "order": null,
            "overflow": null,
            "overflow_x": null,
            "overflow_y": null,
            "padding": null,
            "right": null,
            "top": null,
            "visibility": null,
            "width": null
          }
        },
        "fcc0dacaa3844b1588abc364864c4473": {
          "model_module": "@jupyter-widgets/controls",
          "model_name": "DescriptionStyleModel",
          "model_module_version": "1.5.0",
          "state": {
            "_model_module": "@jupyter-widgets/controls",
            "_model_module_version": "1.5.0",
            "_model_name": "DescriptionStyleModel",
            "_view_count": null,
            "_view_module": "@jupyter-widgets/base",
            "_view_module_version": "1.2.0",
            "_view_name": "StyleView",
            "description_width": ""
          }
        },
        "37972179b70848dc975ae6d90f69d1cf": {
          "model_module": "@jupyter-widgets/base",
          "model_name": "LayoutModel",
          "model_module_version": "1.2.0",
          "state": {
            "_model_module": "@jupyter-widgets/base",
            "_model_module_version": "1.2.0",
            "_model_name": "LayoutModel",
            "_view_count": null,
            "_view_module": "@jupyter-widgets/base",
            "_view_module_version": "1.2.0",
            "_view_name": "LayoutView",
            "align_content": null,
            "align_items": null,
            "align_self": null,
            "border": null,
            "bottom": null,
            "display": null,
            "flex": null,
            "flex_flow": null,
            "grid_area": null,
            "grid_auto_columns": null,
            "grid_auto_flow": null,
            "grid_auto_rows": null,
            "grid_column": null,
            "grid_gap": null,
            "grid_row": null,
            "grid_template_areas": null,
            "grid_template_columns": null,
            "grid_template_rows": null,
            "height": null,
            "justify_content": null,
            "justify_items": null,
            "left": null,
            "margin": null,
            "max_height": null,
            "max_width": null,
            "min_height": null,
            "min_width": null,
            "object_fit": null,
            "object_position": null,
            "order": null,
            "overflow": null,
            "overflow_x": null,
            "overflow_y": null,
            "padding": null,
            "right": null,
            "top": null,
            "visibility": null,
            "width": null
          }
        },
        "c276fd788b0a487891f632d2cbc57b40": {
          "model_module": "@jupyter-widgets/controls",
          "model_name": "ProgressStyleModel",
          "model_module_version": "1.5.0",
          "state": {
            "_model_module": "@jupyter-widgets/controls",
            "_model_module_version": "1.5.0",
            "_model_name": "ProgressStyleModel",
            "_view_count": null,
            "_view_module": "@jupyter-widgets/base",
            "_view_module_version": "1.2.0",
            "_view_name": "StyleView",
            "bar_color": null,
            "description_width": ""
          }
        },
        "185bf44b93a743dc81196d8bef466939": {
          "model_module": "@jupyter-widgets/base",
          "model_name": "LayoutModel",
          "model_module_version": "1.2.0",
          "state": {
            "_model_module": "@jupyter-widgets/base",
            "_model_module_version": "1.2.0",
            "_model_name": "LayoutModel",
            "_view_count": null,
            "_view_module": "@jupyter-widgets/base",
            "_view_module_version": "1.2.0",
            "_view_name": "LayoutView",
            "align_content": null,
            "align_items": null,
            "align_self": null,
            "border": null,
            "bottom": null,
            "display": null,
            "flex": null,
            "flex_flow": null,
            "grid_area": null,
            "grid_auto_columns": null,
            "grid_auto_flow": null,
            "grid_auto_rows": null,
            "grid_column": null,
            "grid_gap": null,
            "grid_row": null,
            "grid_template_areas": null,
            "grid_template_columns": null,
            "grid_template_rows": null,
            "height": null,
            "justify_content": null,
            "justify_items": null,
            "left": null,
            "margin": null,
            "max_height": null,
            "max_width": null,
            "min_height": null,
            "min_width": null,
            "object_fit": null,
            "object_position": null,
            "order": null,
            "overflow": null,
            "overflow_x": null,
            "overflow_y": null,
            "padding": null,
            "right": null,
            "top": null,
            "visibility": null,
            "width": null
          }
        },
        "1e1331b6ed72442596b3095fc4ff27cf": {
          "model_module": "@jupyter-widgets/controls",
          "model_name": "DescriptionStyleModel",
          "model_module_version": "1.5.0",
          "state": {
            "_model_module": "@jupyter-widgets/controls",
            "_model_module_version": "1.5.0",
            "_model_name": "DescriptionStyleModel",
            "_view_count": null,
            "_view_module": "@jupyter-widgets/base",
            "_view_module_version": "1.2.0",
            "_view_name": "StyleView",
            "description_width": ""
          }
        }
      }
    }
  },
  "cells": [
    {
      "cell_type": "code",
      "source": [
        "!pip install kaggle"
      ],
      "metadata": {
        "colab": {
          "base_uri": "https://localhost:8080/"
        },
        "id": "usqJi7TnlQsp",
        "outputId": "264b588d-0aaf-44d0-d378-042662a24169"
      },
      "execution_count": null,
      "outputs": [
        {
          "output_type": "stream",
          "name": "stdout",
          "text": [
            "Requirement already satisfied: kaggle in /usr/local/lib/python3.10/dist-packages (1.5.16)\n",
            "Requirement already satisfied: six>=1.10 in /usr/local/lib/python3.10/dist-packages (from kaggle) (1.16.0)\n",
            "Requirement already satisfied: certifi in /usr/local/lib/python3.10/dist-packages (from kaggle) (2023.7.22)\n",
            "Requirement already satisfied: python-dateutil in /usr/local/lib/python3.10/dist-packages (from kaggle) (2.8.2)\n",
            "Requirement already satisfied: requests in /usr/local/lib/python3.10/dist-packages (from kaggle) (2.31.0)\n",
            "Requirement already satisfied: tqdm in /usr/local/lib/python3.10/dist-packages (from kaggle) (4.66.1)\n",
            "Requirement already satisfied: python-slugify in /usr/local/lib/python3.10/dist-packages (from kaggle) (8.0.1)\n",
            "Requirement already satisfied: urllib3 in /usr/local/lib/python3.10/dist-packages (from kaggle) (2.0.6)\n",
            "Requirement already satisfied: bleach in /usr/local/lib/python3.10/dist-packages (from kaggle) (6.1.0)\n",
            "Requirement already satisfied: webencodings in /usr/local/lib/python3.10/dist-packages (from bleach->kaggle) (0.5.1)\n",
            "Requirement already satisfied: text-unidecode>=1.3 in /usr/local/lib/python3.10/dist-packages (from python-slugify->kaggle) (1.3)\n",
            "Requirement already satisfied: charset-normalizer<4,>=2 in /usr/local/lib/python3.10/dist-packages (from requests->kaggle) (3.3.0)\n",
            "Requirement already satisfied: idna<4,>=2.5 in /usr/local/lib/python3.10/dist-packages (from requests->kaggle) (3.4)\n"
          ]
        }
      ]
    },
    {
      "cell_type": "code",
      "source": [
        "! mkdir ~/.kaggle"
      ],
      "metadata": {
        "id": "NJuTo-FflSy0"
      },
      "execution_count": null,
      "outputs": []
    },
    {
      "cell_type": "code",
      "source": [
        "! cp kaggle.json ~/.kaggle/"
      ],
      "metadata": {
        "id": "DVV0qrt7lgTg"
      },
      "execution_count": null,
      "outputs": []
    },
    {
      "cell_type": "code",
      "source": [
        "! chmod 600 ~/.kaggle/kaggle.json"
      ],
      "metadata": {
        "id": "AnKX21eili3u"
      },
      "execution_count": null,
      "outputs": []
    },
    {
      "cell_type": "code",
      "source": [
        "!kaggle competitions download case3-datasaur-photo"
      ],
      "metadata": {
        "colab": {
          "base_uri": "https://localhost:8080/"
        },
        "id": "6XFvwJHDlozu",
        "outputId": "b135ee0d-fe45-43fa-bd1c-aefd884b0448"
      },
      "execution_count": null,
      "outputs": [
        {
          "output_type": "stream",
          "name": "stdout",
          "text": [
            "Downloading case3-datasaur-photo.zip to /content\n",
            "100% 0.99G/0.99G [00:47<00:00, 22.8MB/s]\n",
            "100% 0.99G/0.99G [00:48<00:00, 22.2MB/s]\n"
          ]
        }
      ]
    },
    {
      "cell_type": "code",
      "source": [
        "!unzip case3-datasaur-photo.zip"
      ],
      "metadata": {
        "id": "2sD6z4Wgl-tt"
      },
      "execution_count": null,
      "outputs": []
    },
    {
      "cell_type": "code",
      "source": [],
      "metadata": {
        "id": "RY17iUUhVI83"
      },
      "execution_count": null,
      "outputs": []
    },
    {
      "cell_type": "code",
      "source": [
        "import os\n",
        "import shutil\n",
        "import random\n",
        "\n",
        "sources = ['/content/techosmotr/techosmotr/train/fictivniye(fictitious)/3-from-the-screen+photoshop',\n",
        "           '/content/techosmotr/techosmotr/train/fictivniye(fictitious)/1-not-on-the-brake-stand',\n",
        "           '/content/techosmotr/techosmotr/train/fictivniye(fictitious)/2-from-the-screen',\n",
        "           '/content/techosmotr/techosmotr/train/fictivniye(fictitious)/4-photoshop'\n",
        "          ]\n",
        "destination = '/content/techosmotr/techosmotr/train/1-incorrect'\n",
        "\n",
        "\n",
        "for source in sources:\n",
        "  # gather all files\n",
        "  allfiles = os.listdir(source)\n",
        "\n",
        "  # iterate on all files to move them to destination folder\n",
        "  for f in allfiles:\n",
        "\n",
        "      #f = os.listdir(source)[random.randint(0, 300)]\n",
        "      src_path = os.path.join(source, f)\n",
        "      dst_path = os.path.join(destination, f)\n",
        "      shutil.move(src_path, dst_path)"
      ],
      "metadata": {
        "id": "86N0CdhVL0RY"
      },
      "execution_count": null,
      "outputs": []
    },
    {
      "cell_type": "code",
      "source": [
        "source = '/content/techosmotr/techosmotr/train/1-incorrect'\n",
        "destination = '/content/techosmotr/techosmotr/test/1-incorrect'\n",
        "\n",
        "# gather all files\n",
        "allfiles = os.listdir(source)\n",
        "\n",
        "\n",
        "# iterate on all files to move them to destination folder\n",
        "for i in range(0, 400):\n",
        "\n",
        "\n",
        "    f = os.listdir(source)\n",
        "    image = f[random.randint(0, len(f) - 1)]\n",
        "    src_path = os.path.join(source, image)\n",
        "    dst_path = os.path.join(destination, image)\n",
        "    shutil.move(src_path, dst_path)"
      ],
      "metadata": {
        "id": "TewjW5gnnUXD"
      },
      "execution_count": null,
      "outputs": []
    },
    {
      "cell_type": "code",
      "source": [
        "len(os.listdir('/content/techosmotr/techosmotr/train/1-incorrect'))"
      ],
      "metadata": {
        "id": "AiEhb67TwXfR"
      },
      "execution_count": null,
      "outputs": []
    },
    {
      "cell_type": "code",
      "source": [
        "!rm -r \"/content/techosmotr/techosmotr/test/.ipynb_checkpoints\""
      ],
      "metadata": {
        "id": "CRGoQfQhoXY1"
      },
      "execution_count": null,
      "outputs": []
    },
    {
      "cell_type": "markdown",
      "source": [
        "Resnet classification"
      ],
      "metadata": {
        "id": "v01LGzPiOMkU"
      }
    },
    {
      "cell_type": "code",
      "source": [
        "import numpy as np\n",
        "import torch\n",
        "import torchvision.transforms as T\n",
        "from PIL import Image\n",
        "import os\n",
        "import cv2\n",
        "import json\n",
        "import glob\n",
        "from tqdm.notebook import tqdm"
      ],
      "metadata": {
        "id": "xLyQbUB3yKHG"
      },
      "execution_count": null,
      "outputs": []
    },
    {
      "cell_type": "code",
      "source": [
        "cwd = os.getcwd()\n",
        "\n",
        "ROOT_DIR = os.path.join(cwd, \"/content/techosmotr/techosmotr/train\")\n",
        "\n",
        "labels = {}\n",
        "\n",
        "for folder in os.listdir(ROOT_DIR):\n",
        "    for file in os.listdir(os.path.join(ROOT_DIR, folder)):\n",
        "        if file.endswith(\".jpeg\"):\n",
        "            full_name = os.path.join(ROOT_DIR, folder, file)\n",
        "            labels[full_name] = folder\n",
        "\n",
        "files = labels.keys()"
      ],
      "metadata": {
        "id": "22zNIKJ1yPCM"
      },
      "execution_count": null,
      "outputs": []
    },
    {
      "cell_type": "code",
      "source": [
        "files"
      ],
      "metadata": {
        "id": "TwqH70gizL7_"
      },
      "execution_count": null,
      "outputs": []
    },
    {
      "cell_type": "code",
      "source": [
        "dinov2_vits14 = torch.hub.load(\"facebookresearch/dinov2\", \"dinov2_vitl14_lc\")\n",
        "device = torch.device('cuda' if torch.cuda.is_available() else \"cpu\")\n",
        "dinov2_vits14.to(device)\n",
        "transform_image = T.Compose([T.ToTensor(), T.Resize(520), T.CenterCrop(518), T.Normalize([0.5], [0.5])])\n"
      ],
      "metadata": {
        "colab": {
          "base_uri": "https://localhost:8080/"
        },
        "id": "Ntbyl525yXVE",
        "outputId": "3ec5263e-9b2a-41e2-de90-93a01be023d0"
      },
      "execution_count": null,
      "outputs": [
        {
          "output_type": "stream",
          "name": "stderr",
          "text": [
            "Using cache found in /root/.cache/torch/hub/facebookresearch_dinov2_main\n",
            "Downloading: \"https://dl.fbaipublicfiles.com/dinov2/dinov2_vitl14/dinov2_vitl14_pretrain.pth\" to /root/.cache/torch/hub/checkpoints/dinov2_vitl14_pretrain.pth\n",
            "100%|██████████| 1.13G/1.13G [00:56<00:00, 21.4MB/s]\n",
            "Downloading: \"https://dl.fbaipublicfiles.com/dinov2/dinov2_vitl14/dinov2_vitl14_linear4_head.pth\" to /root/.cache/torch/hub/checkpoints/dinov2_vitl14_linear4_head.pth\n",
            "100%|██████████| 19.5M/19.5M [00:01<00:00, 10.6MB/s]\n"
          ]
        }
      ]
    },
    {
      "cell_type": "code",
      "source": [
        "def load_image(img: str) -> torch.Tensor:\n",
        "    \"\"\"\n",
        "    Load an image and return a tensor that can be used as an input to DINOv2.\n",
        "    \"\"\"\n",
        "    img = Image.open(img)\n",
        "\n",
        "    transformed_img = transform_image(img)[:3].unsqueeze(0)\n",
        "\n",
        "    return transformed_img\n",
        "\n",
        "def compute_embeddings(files: list) -> dict:\n",
        "    \"\"\"\n",
        "    Create an index that contains all of the images in the specified list of files.\n",
        "    \"\"\"\n",
        "    all_embeddings = {}\n",
        "\n",
        "    with torch.no_grad():\n",
        "      for i, file in enumerate(tqdm(files)):\n",
        "        embeddings = dinov2_vits14(load_image(file).to(device))\n",
        "\n",
        "        all_embeddings[file] = np.array(embeddings[0].cpu().numpy()).reshape(1, -1).tolist()\n",
        "\n",
        "    with open(\"all_embeddings.json\", \"w\") as f:\n",
        "        f.write(json.dumps(all_embeddings))\n",
        "\n",
        "    return all_embeddings"
      ],
      "metadata": {
        "id": "h0cS7WqRzEiU"
      },
      "execution_count": null,
      "outputs": []
    },
    {
      "cell_type": "code",
      "source": [
        "embeddings = compute_embeddings(files)"
      ],
      "metadata": {
        "colab": {
          "base_uri": "https://localhost:8080/",
          "height": 105,
          "referenced_widgets": [
            "dd49b39ba0634f44bcdedde3ba5def2d",
            "9574d970a1ce4d6ab4f2606f8941be91",
            "0a738d72fa534901bf9785936323be86",
            "2da2bdce101641eaa7c38e202ffa3d17",
            "dec50d46c66847da9285dc7bafdd9049",
            "e14aae543c2f430483a4543e15dd79d7",
            "fcc0dacaa3844b1588abc364864c4473",
            "37972179b70848dc975ae6d90f69d1cf",
            "c276fd788b0a487891f632d2cbc57b40",
            "185bf44b93a743dc81196d8bef466939",
            "1e1331b6ed72442596b3095fc4ff27cf"
          ]
        },
        "id": "cVj2RBiLzFiu",
        "outputId": "d8ff451e-867c-4b41-9674-eab6e353e98e"
      },
      "execution_count": null,
      "outputs": [
        {
          "output_type": "display_data",
          "data": {
            "text/plain": [
              "  0%|          | 0/6585 [00:00<?, ?it/s]"
            ],
            "application/vnd.jupyter.widget-view+json": {
              "version_major": 2,
              "version_minor": 0,
              "model_id": "dd49b39ba0634f44bcdedde3ba5def2d"
            }
          },
          "metadata": {}
        },
        {
          "output_type": "stream",
          "name": "stderr",
          "text": [
            "/usr/local/lib/python3.10/dist-packages/torchvision/transforms/functional.py:1603: UserWarning: The default value of the antialias parameter of all the resizing transforms (Resize(), RandomResizedCrop(), etc.) will change from None to True in v0.17, in order to be consistent across the PIL and Tensor backends. To suppress this warning, directly pass antialias=True (recommended, future default), antialias=None (current default, which means False for Tensors and True for PIL), or antialias=False (only works on Tensors - PIL will still use antialiasing). This also applies if you are using the inference transforms from the models weights: update the call to weights.transforms(antialias=True).\n",
            "  warnings.warn(\n"
          ]
        }
      ]
    },
    {
      "cell_type": "code",
      "source": [
        "from sklearn.ensemble import AdaBoostClassifier\n",
        "from sklearn import svm\n",
        "from sklearn.model_selection import GridSearchCV\n",
        "from sklearn.model_selection import HalvingGridSearchCV"
      ],
      "metadata": {
        "id": "OttVyXmyPmw9"
      },
      "execution_count": null,
      "outputs": []
    },
    {
      "cell_type": "code",
      "source": [
        "y = [labels[file] for file in files]\n",
        "embedding_list = list(embeddings.values())\n",
        "X = np.array(embedding_list).reshape(-1, 1000)"
      ],
      "metadata": {
        "id": "qZ8_t_MRzqTJ"
      },
      "execution_count": null,
      "outputs": []
    },
    {
      "cell_type": "code",
      "source": [
        "len(embedding_list)"
      ],
      "metadata": {
        "colab": {
          "base_uri": "https://localhost:8080/"
        },
        "id": "jVNKGfUYudA1",
        "outputId": "d44e157c-64cb-4418-8c9e-e91fce8286e5"
      },
      "execution_count": null,
      "outputs": [
        {
          "output_type": "execute_result",
          "data": {
            "text/plain": [
              "6585"
            ]
          },
          "metadata": {},
          "execution_count": 106
        }
      ]
    },
    {
      "cell_type": "code",
      "source": [
        "X.shape"
      ],
      "metadata": {
        "colab": {
          "base_uri": "https://localhost:8080/"
        },
        "id": "sFAm8UkIuOed",
        "outputId": "073c910d-fc81-4ff1-ad22-06a3be7e2315"
      },
      "execution_count": null,
      "outputs": [
        {
          "output_type": "execute_result",
          "data": {
            "text/plain": [
              "(6585, 1000)"
            ]
          },
          "metadata": {},
          "execution_count": 107
        }
      ]
    },
    {
      "cell_type": "markdown",
      "source": [
        "Grid search"
      ],
      "metadata": {
        "id": "JjKeCKH2iCIm"
      }
    },
    {
      "cell_type": "code",
      "source": [
        "parameters = param_grid = {\n",
        "    'base_estimator__max_depth' : [1, 2, 3, 4, 5],\n",
        "    'max_samples' : [0.05, 0.1, 0.2, 0.5]\n",
        "}\n",
        "\n",
        "cv = GridSearchCV(BaggingClassifier(estimator=svm.SVC(gamma=0.001, kernel='poly', C=0.1), n_estimators=11), parameters, n_jobs=5)\n",
        "cv.fit(X, y)"
      ],
      "metadata": {
        "id": "wvBhD8OPQa3T"
      },
      "execution_count": null,
      "outputs": []
    },
    {
      "cell_type": "code",
      "source": [
        "print(f\"best_score{cv.best_score_}\")\n",
        "print(f\"best_score{cv.best_params_}\")"
      ],
      "metadata": {
        "colab": {
          "base_uri": "https://localhost:8080/"
        },
        "id": "w3mZhgjZVwQb",
        "outputId": "00752e4e-95f2-413f-c1a3-b5b0906352f5"
      },
      "execution_count": null,
      "outputs": [
        {
          "output_type": "stream",
          "name": "stdout",
          "text": [
            "best_score0.9466970387243736\n",
            "best_score{'C': 0.1, 'gamma': 0.001, 'kernel': 'poly'}\n"
          ]
        }
      ]
    },
    {
      "cell_type": "markdown",
      "source": [
        "halving_cv"
      ],
      "metadata": {
        "id": "dH87f_WSZjWT"
      }
    },
    {
      "cell_type": "code",
      "source": [
        "import xgboost as xgb\n",
        "from sklearn.preprocessing import LabelEncoder\n",
        "le = LabelEncoder()\n",
        "\n",
        "# param_grid = {\n",
        "# \"max_depth\": [3, 4, 7, 10, 25],\n",
        "# \"gamma\": [0.5, 1, 5, 10, 25],\n",
        "# \"min_child_weight\": [1, 3, 5, 10, 25],\n",
        "# \"reg_lambda\": [5, 10, 50, 100, 300],\n",
        "# \"scale_pos_weight\": [1, 3, 5, 10, 25]\n",
        "# }\n",
        "# Grid Search CV implementation\n",
        "xgb_cl = xgb.XGBClassifier(objective=\"binary:logistic\")\n",
        "xgb_cl.fit(X, le.fit_transform(y))\n",
        "\n",
        "\n",
        "# print(f\"best_score{halving_cv.best_score_}\")\n",
        "# print(f\"best_score{halving_cv.best_params_}\")"
      ],
      "metadata": {
        "id": "M_wHMLLzVNAI"
      },
      "execution_count": null,
      "outputs": []
    },
    {
      "cell_type": "markdown",
      "source": [
        "cross valid\n",
        "\n",
        "dinov2_vitl14_lc + resize 518"
      ],
      "metadata": {
        "id": "2TRd40qSZlxL"
      }
    },
    {
      "cell_type": "code",
      "source": [
        "from sklearn.model_selection import cross_val_score\n",
        "from sklearn.linear_model import LogisticRegression\n",
        "from sklearn.ensemble import BaggingClassifier\n",
        "from sklearn.ensemble import RandomForestClassifier\n",
        "from sklearn.tree import DecisionTreeClassifier\n",
        "\n",
        "# xgb_cl = xgb.XGBClassifier(objective=\"binary:logistic\")\n",
        "# model = LogisticRegression(max_iter=500)\n",
        "\n",
        "clf = BaggingClassifier(estimator=svm.SVC(gamma=\"scale\", kernel='poly', C=0.1, probability=True), n_estimators=3)\n",
        "scores = cross_val_score(clf, X, y, cv=5)\n",
        "scores"
      ],
      "metadata": {
        "colab": {
          "base_uri": "https://localhost:8080/"
        },
        "id": "CFitXv7Z7ZmF",
        "outputId": "d5510115-1e51-4c29-801b-31f503d59b8e"
      },
      "execution_count": null,
      "outputs": [
        {
          "output_type": "execute_result",
          "data": {
            "text/plain": [
              "array([0.92027335, 0.93014427, 0.91571754, 0.91116173, 0.92558846])"
            ]
          },
          "metadata": {},
          "execution_count": 143
        }
      ]
    },
    {
      "cell_type": "markdown",
      "source": [],
      "metadata": {
        "id": "OgMtKbm1hRWF"
      }
    },
    {
      "cell_type": "code",
      "source": [
        "from sklearn.model_selection import RepeatedStratifiedKFold\n",
        "\n",
        "xgb_cl = xgb.XGBClassifier(objective=\"binary:logistic\")\n",
        "scores = RepeatedStratifiedKFold(n_splits=10, n_repeats=3, random_state=1)\n",
        "scores"
      ],
      "metadata": {
        "colab": {
          "base_uri": "https://localhost:8080/"
        },
        "id": "aWa32u4YhRgN",
        "outputId": "2b93b7ec-5955-4241-d8be-74ae15258377"
      },
      "execution_count": null,
      "outputs": [
        {
          "output_type": "execute_result",
          "data": {
            "text/plain": [
              "RepeatedStratifiedKFold(n_repeats=3, n_splits=10, random_state=1)"
            ]
          },
          "metadata": {},
          "execution_count": 55
        }
      ]
    },
    {
      "cell_type": "markdown",
      "source": [
        "submission generation"
      ],
      "metadata": {
        "id": "viTgmO6BZR3Q"
      }
    },
    {
      "cell_type": "code",
      "source": [
        "from PIL import Image\n",
        "import pandas as pd\n",
        "\n",
        "clf = BaggingClassifier(estimator=svm.SVC(gamma=0.001, kernel='poly', C=0.1), n_estimators=5)\n",
        "clf.fit(X, y)\n",
        "\n",
        "\n",
        "source = '/content/test'\n",
        "allfiles = os.listdir(source)\n",
        "test_data = {\"file_index\": [],\n",
        "             \"class\": []}\n",
        "  # iterate on all files to move them to destination folder\n",
        "for f in allfiles:\n",
        "\n",
        "  #f = os.listdir(source)[random.randint(0, 300)]\n",
        "  src_path = os.path.join(source, f)\n",
        "\n",
        "  input = load_image(os.path.join(source, f))\n",
        "  embedding = dinov2_vits14(input.to(device))\n",
        "\n",
        "  prediction = clf.predict(embedding[0].cpu().detach().numpy().reshape(1, -1))\n",
        "  if prediction == '0-correct':\n",
        "    prediction = 0\n",
        "  else:\n",
        "    prediction = 1\n",
        "\n",
        "  test_data[\"file_index\"].append(f.split(\".\")[0])\n",
        "  test_data[\"class\"].append(prediction)"
      ],
      "metadata": {
        "id": "Gy9DIzz_0UnO"
      },
      "execution_count": null,
      "outputs": []
    },
    {
      "cell_type": "code",
      "source": [
        "sub = pd.DataFrame(test_data)"
      ],
      "metadata": {
        "id": "a9jeWE0E1S52"
      },
      "execution_count": null,
      "outputs": []
    },
    {
      "cell_type": "code",
      "source": [
        "sub.to_csv(\"bag_lc_l_0964.csv\", index=False)"
      ],
      "metadata": {
        "id": "2O0wc4rU1aiN"
      },
      "execution_count": null,
      "outputs": []
    },
    {
      "cell_type": "code",
      "source": [
        "import pickle\n",
        "\n",
        "filename = \"bag_lc_l_0964.pickle\"\n",
        "\n",
        "# save model\n",
        "pickle.dump(clf, open(filename, \"wb\"))"
      ],
      "metadata": {
        "id": "Fz4mQr9MKGtB"
      },
      "execution_count": null,
      "outputs": []
    }
  ]
}